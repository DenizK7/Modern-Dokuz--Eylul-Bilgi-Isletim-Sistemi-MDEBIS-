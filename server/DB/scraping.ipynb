{
 "cells": [
  {
   "cell_type": "code",
   "execution_count": 1,
   "metadata": {},
   "outputs": [],
   "source": [
    "import re\n",
    "import requests\n",
    "from bs4 import BeautifulSoup\n"
   ]
  },
  {
   "cell_type": "code",
   "execution_count": 2,
   "metadata": {},
   "outputs": [],
   "source": [
    "# Making a GET request\n",
    "r = requests.get('https://debis.deu.edu.tr/ders-katalog/2021-2022/eng/eng-c3.html')\n",
    " \n"
   ]
  },
  {
   "cell_type": "code",
   "execution_count": 3,
   "metadata": {},
   "outputs": [],
   "source": [
    "# check status code for response received\n",
    "# success code - 200\n",
    " \n",
    "# Parsing the HTML\n",
    "soup = BeautifulSoup(r.content, 'html.parser')\n",
    "s = soup.find('div', class_='menu')\n"
   ]
  },
  {
   "cell_type": "code",
   "execution_count": 4,
   "metadata": {},
   "outputs": [],
   "source": [
    "#now going every departmen's own site"
   ]
  },
  {
   "cell_type": "code",
   "execution_count": 5,
   "metadata": {},
   "outputs": [],
   "source": [
    "s_every_dep = soup.find('div', class_='menu')\n"
   ]
  },
  {
   "cell_type": "code",
   "execution_count": 6,
   "metadata": {},
   "outputs": [],
   "source": [
    "content = s.find_all('a')\n"
   ]
  },
  {
   "cell_type": "code",
   "execution_count": null,
   "metadata": {},
   "outputs": [],
   "source": []
  },
  {
   "cell_type": "code",
   "execution_count": 7,
   "metadata": {},
   "outputs": [],
   "source": [
    "dep_links=[]"
   ]
  },
  {
   "cell_type": "code",
   "execution_count": 8,
   "metadata": {},
   "outputs": [],
   "source": [
    "for line in content:\n",
    "    line_=str(line)\n",
    "    dep_links.append((line_[9:28]+\";\"+line_[61:(len(line_)-5)]))"
   ]
  },
  {
   "cell_type": "code",
   "execution_count": null,
   "metadata": {},
   "outputs": [],
   "source": []
  },
  {
   "cell_type": "code",
   "execution_count": null,
   "metadata": {},
   "outputs": [],
   "source": []
  },
  {
   "cell_type": "code",
   "execution_count": 9,
   "metadata": {},
   "outputs": [],
   "source": [
    "def get_course_links(coming_array):\n",
    "    #find first course\n",
    "    first_course_index=0\n",
    "    count=0\n",
    "    for i in range(len(coming_array)):\n",
    "        if \"short cycle\" in str(coming_array[i]).lower():\n",
    "            first_course_index=i\n",
    "            count=count+1\n",
    "            if count==2:\n",
    "                break\n",
    "    going_array=[]\n",
    "    for j in range(len(coming_array)):\n",
    "        if j >first_course_index:\n",
    "            going_array.append(coming_array[j])\n",
    "\n",
    "    returned_links=[]\n",
    "    for every_course in going_array:\n",
    "        every_course=str(every_course)\n",
    "        index=every_course.find(\"html\")\n",
    "        link=every_course[9:index+4]\n",
    "        if \"en_\" in link:\n",
    "            returned_links.append(link)\n",
    "    return returned_links\n"
   ]
  },
  {
   "cell_type": "code",
   "execution_count": 10,
   "metadata": {},
   "outputs": [],
   "source": [
    "def get_courses_of_department(link):\n",
    "    # Making a GET request\n",
    "    html_const='https://debis.deu.edu.tr/ders-katalog/2021-2022/eng/'\n",
    "    link=html_const+link\n",
    "    try:\n",
    "        r2 = requests.get(link,headers={\n",
    "    \"User-Agent\" : \"Mozilla/5.0 (X11; Linux x86_64) AppleWebKit/537.36 (KHTML, like Gecko) Chrome/51.0.2704.103 Safari/537.36\"\n",
    "    })\n",
    "    except SSLError:\n",
    "        return\n",
    "    \n",
    "    # check status code for response received\n",
    "    # success code - 200\n",
    "    \n",
    "    # Parsing the HTML\n",
    "    soup = BeautifulSoup(r2.content, 'html.parser')\n",
    "    s_every_dep = soup.find_all('a', href=True)\n",
    "    s_every_dep=get_course_links(s_every_dep)\n",
    "    courses=[]\n",
    "    for course_link in s_every_dep:\n",
    "        name_credit=get_individual_course_inf(course_link)\n",
    "        courses.append(name_credit)\n",
    "    \n",
    "    return courses\n",
    "    \n"
   ]
  },
  {
   "cell_type": "code",
   "execution_count": 11,
   "metadata": {},
   "outputs": [],
   "source": [
    "from ssl import SSLError\n",
    "\n",
    "\n",
    "def get_individual_course_inf(link):\n",
    "    html_const='https://debis.deu.edu.tr/ders-katalog/2021-2022/eng/'\n",
    "    link=html_const+link\n",
    "    try:\n",
    "        r2 = requests.get(link,headers={\n",
    "\"User-Agent\" : \"Mozilla/5.0 (X11; Linux x86_64) AppleWebKit/537.36 (KHTML, like Gecko) Chrome/51.0.2704.103 Safari/537.36\"\n",
    "})\n",
    "    except ConnectionError:\n",
    "        return\n",
    "    except SSLError:\n",
    "        return\n",
    "    \n",
    "    # check status code for response received\n",
    "    # success code - 200\n",
    "    \n",
    "    # Parsing the HTML\n",
    "    soup = BeautifulSoup(r2.content, 'html.parser')\n",
    "    s_every_dep = soup.find_all('tr', bgcolor=\"#CCCCCC\", align=\"center\")\n",
    "    s_every_dep=s_every_dep[1].findAll('td')    \n",
    "    content=[]\n",
    "    for i in s_every_dep:\n",
    "        try:\n",
    "            content.append(i.contents[0])\n",
    "        except IndexError:\n",
    "            return \"\"\n",
    "    return content[1]+\";\"+content[6]"
   ]
  },
  {
   "cell_type": "code",
   "execution_count": 12,
   "metadata": {},
   "outputs": [],
   "source": [
    "dep_courses={}\n"
   ]
  },
  {
   "cell_type": "code",
   "execution_count": 13,
   "metadata": {},
   "outputs": [
    {
     "name": "stdout",
     "output_type": "stream",
     "text": [
      "American Culture And Literature completed\n",
      "Archeology completed\n",
      "Comparative Literature completed\n",
      " English Translation And Interpreting completed\n",
      "History completed\n",
      "Linguistics completed\n",
      "Museology completed\n",
      "Philosophy completed\n",
      "Psychology completed\n",
      "Sociology completed\n",
      "Turkish Language And Literature completed\n",
      "Medicine completed\n",
      "Nursing completed\n",
      "Physiotherapy And Rehabilitation completed\n",
      "Biology completed\n",
      "Chemistry completed\n",
      "Computer Science completed\n",
      "Mathematics completed\n",
      "Physics completed\n",
      "Statistics completed\n",
      " . completed\n",
      "Primary Religious Culture And Ethics Teacher Education completed\n",
      "Theology completed\n",
      "Theology completed\n",
      "Gastronomy And Culinary Arts completed\n",
      "Tourism Management completed\n",
      " Veterinary Medicine completed\n",
      "Logistics Management completed\n",
      "Marine Engineering completed\n",
      "Marine Transportation Engineering completed\n",
      "Maritime Business Administration completed\n",
      "Coaching Education completed\n",
      " Department Of Sport Management completed\n",
      "Physical Education And Sports Teaching completed\n",
      "Gastronomy And Culinary Arts completed\n",
      "International Trade completed\n",
      "Tourism And Hotel Management completed\n",
      " Tourism Management completed\n",
      " Composition completed\n",
      "Composition completed\n",
      "Guitar completed\n",
      "Harp completed\n",
      "Piano completed\n",
      "Cello completed\n",
      "Contrabass completed\n",
      "Viola completed\n",
      "Violin completed\n",
      " Bassoon completed\n",
      " Clarinet completed\n",
      " Flute completed\n",
      " Horn completed\n",
      " Oboe completed\n",
      " Percussion Instruments completed\n",
      " Trombone completed\n",
      " Trumpet completed\n",
      " Tuba completed\n",
      "Ballet completed\n",
      "Opera completed\n"
     ]
    }
   ],
   "source": [
    "for dep_link_index in range(82,len(dep_links)):\n",
    "    dep_link_splitted=dep_links[dep_link_index].split(\";\")\n",
    "    courses=get_courses_of_department(dep_link_splitted[0])\n",
    "    dep_courses[dep_link_splitted[1]]=courses\n",
    "    print(dep_link_splitted[1]+\" completed\")\n",
    "    "
   ]
  },
  {
   "cell_type": "code",
   "execution_count": 14,
   "metadata": {},
   "outputs": [
    {
     "data": {
      "text/plain": [
       "56"
      ]
     },
     "execution_count": 14,
     "metadata": {},
     "output_type": "execute_result"
    }
   ],
   "source": [
    "len(dep_courses.keys())"
   ]
  },
  {
   "cell_type": "code",
   "execution_count": 15,
   "metadata": {},
   "outputs": [
    {
     "data": {
      "text/plain": [
       "dict_keys(['American Culture And Literature', 'Archeology', 'Comparative Literature', ' English Translation And Interpreting', 'History', 'Linguistics', 'Museology', 'Philosophy', 'Psychology', 'Sociology', 'Turkish Language And Literature', 'Medicine', 'Nursing', 'Physiotherapy And Rehabilitation', 'Biology', 'Chemistry', 'Computer Science', 'Mathematics', 'Physics', 'Statistics', ' .', 'Primary Religious Culture And Ethics Teacher Education', 'Theology', 'Gastronomy And Culinary Arts', 'Tourism Management', ' Veterinary Medicine', 'Logistics Management', 'Marine Engineering', 'Marine Transportation Engineering', 'Maritime Business Administration', 'Coaching Education', ' Department Of Sport Management', 'Physical Education And Sports Teaching', 'International Trade', 'Tourism And Hotel Management', ' Tourism Management', ' Composition', 'Composition', 'Guitar', 'Harp', 'Piano', 'Cello', 'Contrabass', 'Viola', 'Violin', ' Bassoon', ' Clarinet', ' Flute', ' Horn', ' Oboe', ' Percussion Instruments', ' Trombone', ' Trumpet', ' Tuba', 'Ballet', 'Opera'])"
      ]
     },
     "execution_count": 15,
     "metadata": {},
     "output_type": "execute_result"
    }
   ],
   "source": [
    "dep_courses.keys()"
   ]
  },
  {
   "cell_type": "code",
   "execution_count": 16,
   "metadata": {},
   "outputs": [],
   "source": [
    "import json\n",
    "json = json.dumps(dep_courses)\n",
    "\n",
    "# open file for writing, \"w\" \n",
    "f = open(\"dict_v2.json\",\"w\")\n",
    "\n",
    "# write json object to file\n",
    "f.write(json)\n",
    "\n",
    "# close file\n",
    "f.close()"
   ]
  },
  {
   "cell_type": "code",
   "execution_count": 17,
   "metadata": {},
   "outputs": [
    {
     "ename": "UnicodeEncodeError",
     "evalue": "'charmap' codec can't encode character '\\u015f' in position 3141: character maps to <undefined>",
     "output_type": "error",
     "traceback": [
      "\u001b[1;31m---------------------------------------------------------------------------\u001b[0m",
      "\u001b[1;31mUnicodeEncodeError\u001b[0m                        Traceback (most recent call last)",
      "\u001b[1;32mc:\\Users\\emirc\\Desktop\\CENG\\DB\\term_project\\Modern-Dokuz--Eylul-Bilgi-Isletim-Sistemi-MDEBIS-\\server\\DB\\scraping.ipynb Cell 20\u001b[0m in \u001b[0;36m<cell line: 5>\u001b[1;34m()\u001b[0m\n\u001b[0;32m      <a href='vscode-notebook-cell:/c%3A/Users/emirc/Desktop/CENG/DB/term_project/Modern-Dokuz--Eylul-Bilgi-Isletim-Sistemi-MDEBIS-/server/DB/scraping.ipynb#X25sZmlsZQ%3D%3D?line=3'>4</a>\u001b[0m \u001b[39m# loop over dictionary keys and values\u001b[39;00m\n\u001b[0;32m      <a href='vscode-notebook-cell:/c%3A/Users/emirc/Desktop/CENG/DB/term_project/Modern-Dokuz--Eylul-Bilgi-Isletim-Sistemi-MDEBIS-/server/DB/scraping.ipynb#X25sZmlsZQ%3D%3D?line=4'>5</a>\u001b[0m \u001b[39mfor\u001b[39;00m key, val \u001b[39min\u001b[39;00m dep_courses\u001b[39m.\u001b[39mitems():\n\u001b[0;32m      <a href='vscode-notebook-cell:/c%3A/Users/emirc/Desktop/CENG/DB/term_project/Modern-Dokuz--Eylul-Bilgi-Isletim-Sistemi-MDEBIS-/server/DB/scraping.ipynb#X25sZmlsZQ%3D%3D?line=5'>6</a>\u001b[0m \n\u001b[0;32m      <a href='vscode-notebook-cell:/c%3A/Users/emirc/Desktop/CENG/DB/term_project/Modern-Dokuz--Eylul-Bilgi-Isletim-Sistemi-MDEBIS-/server/DB/scraping.ipynb#X25sZmlsZQ%3D%3D?line=6'>7</a>\u001b[0m     \u001b[39m# write every key and value to file\u001b[39;00m\n\u001b[1;32m----> <a href='vscode-notebook-cell:/c%3A/Users/emirc/Desktop/CENG/DB/term_project/Modern-Dokuz--Eylul-Bilgi-Isletim-Sistemi-MDEBIS-/server/DB/scraping.ipynb#X25sZmlsZQ%3D%3D?line=7'>8</a>\u001b[0m     w\u001b[39m.\u001b[39;49mwriterow([key, val])\n",
      "File \u001b[1;32mc:\\Users\\emirc\\AppData\\Local\\Programs\\Python\\Python310\\lib\\encodings\\cp1252.py:19\u001b[0m, in \u001b[0;36mIncrementalEncoder.encode\u001b[1;34m(self, input, final)\u001b[0m\n\u001b[0;32m     18\u001b[0m \u001b[39mdef\u001b[39;00m \u001b[39mencode\u001b[39m(\u001b[39mself\u001b[39m, \u001b[39minput\u001b[39m, final\u001b[39m=\u001b[39m\u001b[39mFalse\u001b[39;00m):\n\u001b[1;32m---> 19\u001b[0m     \u001b[39mreturn\u001b[39;00m codecs\u001b[39m.\u001b[39;49mcharmap_encode(\u001b[39minput\u001b[39;49m,\u001b[39mself\u001b[39;49m\u001b[39m.\u001b[39;49merrors,encoding_table)[\u001b[39m0\u001b[39m]\n",
      "\u001b[1;31mUnicodeEncodeError\u001b[0m: 'charmap' codec can't encode character '\\u015f' in position 3141: character maps to <undefined>"
     ]
    }
   ],
   "source": [
    "import csv\n",
    "w = csv.writer(open(\"output_2.csv\", \"w\"))\n",
    "\n",
    "# loop over dictionary keys and values\n",
    "for key, val in dep_courses.items():\n",
    "\n",
    "    # write every key and value to file\n",
    "    w.writerow([key, val])"
   ]
  },
  {
   "cell_type": "code",
   "execution_count": 19,
   "metadata": {},
   "outputs": [],
   "source": [
    "import json\n",
    "\n",
    "f = open('dict.json')\n",
    "  \n",
    "# returns JSON object as \n",
    "# a dictionary\n",
    "data1 = json.load(f)"
   ]
  },
  {
   "cell_type": "code",
   "execution_count": 21,
   "metadata": {},
   "outputs": [],
   "source": [
    "f2=open(\"dict_v2.json\")\n",
    "data2=json.load(f2)"
   ]
  },
  {
   "cell_type": "code",
   "execution_count": 23,
   "metadata": {},
   "outputs": [
    {
     "data": {
      "text/plain": [
       "dict"
      ]
     },
     "execution_count": 23,
     "metadata": {},
     "output_type": "execute_result"
    }
   ],
   "source": [
    "type(data1)"
   ]
  },
  {
   "cell_type": "code",
   "execution_count": 24,
   "metadata": {},
   "outputs": [],
   "source": [
    "dep_courses=data1|data2"
   ]
  },
  {
   "cell_type": "code",
   "execution_count": 28,
   "metadata": {},
   "outputs": [],
   "source": [
    "lista=dep_courses['Elementary Teacher Education']"
   ]
  },
  {
   "cell_type": "code",
   "execution_count": null,
   "metadata": {},
   "outputs": [],
   "source": []
  }
 ],
 "metadata": {
  "kernelspec": {
   "display_name": "Python 3.10.5 64-bit",
   "language": "python",
   "name": "python3"
  },
  "language_info": {
   "codemirror_mode": {
    "name": "ipython",
    "version": 3
   },
   "file_extension": ".py",
   "mimetype": "text/x-python",
   "name": "python",
   "nbconvert_exporter": "python",
   "pygments_lexer": "ipython3",
   "version": "3.10.5"
  },
  "orig_nbformat": 4,
  "vscode": {
   "interpreter": {
    "hash": "0922fe99291c058997fecabe5ba77879b2a877248529cecd27246b77294de03d"
   }
  }
 },
 "nbformat": 4,
 "nbformat_minor": 2
}
